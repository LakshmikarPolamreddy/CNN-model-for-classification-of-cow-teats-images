{
 "cells": [
  {
   "cell_type": "markdown",
   "id": "IARD-ZWw0Lhg",
   "metadata": {
    "id": "IARD-ZWw0Lhg"
   },
   "source": []
  },
  {
   "cell_type": "markdown",
   "id": "009e8fc2",
   "metadata": {
    "id": "009e8fc2"
   },
   "source": [
    "# 1. Build your own convolutional neural network using pytorch"
   ]
  },
  {
   "cell_type": "code",
   "execution_count": 1,
   "id": "133be475",
   "metadata": {
    "executionInfo": {
     "elapsed": 4353,
     "status": "ok",
     "timestamp": 1668114943524,
     "user": {
      "displayName": "Lakshmikar Reddy Polamreddy",
      "userId": "01522637219110771790"
     },
     "user_tz": 300
    },
    "id": "133be475"
   },
   "outputs": [],
   "source": [
    "import os\n",
    "import torch\n",
    "from torch import nn\n",
    "import torchvision\n",
    "import torchvision.transforms as transforms\n",
    "import torch.nn.functional as F\n",
    "import torch.optim as optim\n",
    "from torch.utils.data import random_split\n",
    "\n",
    "import matplotlib.pyplot as plt\n",
    "import numpy as np\n",
    "import pandas as pd\n",
    "import cv2"
   ]
  },
  {
   "cell_type": "code",
   "execution_count": 2,
   "id": "4MJolu96ji0Q",
   "metadata": {
    "colab": {
     "base_uri": "https://localhost:8080/"
    },
    "executionInfo": {
     "elapsed": 115,
     "status": "ok",
     "timestamp": 1668114945594,
     "user": {
      "displayName": "Lakshmikar Reddy Polamreddy",
      "userId": "01522637219110771790"
     },
     "user_tz": 300
    },
    "id": "4MJolu96ji0Q",
    "outputId": "5c18585c-30e8-485d-e8f5-d485ad3edecb"
   },
   "outputs": [
    {
     "data": {
      "text/plain": [
       "['.config', 'sample_data']"
      ]
     },
     "execution_count": 2,
     "metadata": {},
     "output_type": "execute_result"
    }
   ],
   "source": [
    "os.listdir('./')"
   ]
  },
  {
   "cell_type": "code",
   "execution_count": 3,
   "id": "ay_w0g60lxLJ",
   "metadata": {
    "colab": {
     "base_uri": "https://localhost:8080/"
    },
    "executionInfo": {
     "elapsed": 17205,
     "status": "ok",
     "timestamp": 1668114963863,
     "user": {
      "displayName": "Lakshmikar Reddy Polamreddy",
      "userId": "01522637219110771790"
     },
     "user_tz": 300
    },
    "id": "ay_w0g60lxLJ",
    "outputId": "a6eb32cf-91b3-4503-9f99-26d94c8316b6"
   },
   "outputs": [
    {
     "name": "stdout",
     "output_type": "stream",
     "text": [
      "Mounted at /content/drive\n"
     ]
    }
   ],
   "source": [
    "from google.colab import drive\n",
    "drive.mount('/content/drive')"
   ]
  },
  {
   "cell_type": "code",
   "execution_count": 4,
   "id": "IiqKXLJsqhGm",
   "metadata": {
    "colab": {
     "base_uri": "https://localhost:8080/"
    },
    "executionInfo": {
     "elapsed": 252,
     "status": "ok",
     "timestamp": 1668114966835,
     "user": {
      "displayName": "Lakshmikar Reddy Polamreddy",
      "userId": "01522637219110771790"
     },
     "user_tz": 300
    },
    "id": "IiqKXLJsqhGm",
    "outputId": "32d7bbf4-5863-481c-edc6-3b3b2b234eaf"
   },
   "outputs": [
    {
     "name": "stdout",
     "output_type": "stream",
     "text": [
      "/content/drive/My Drive/Project1_CV\n"
     ]
    }
   ],
   "source": [
    "%cd /content/drive/My\\ Drive/Project1_CV"
   ]
  },
  {
   "cell_type": "code",
   "execution_count": 5,
   "id": "W-xzojc6Nxeg",
   "metadata": {
    "colab": {
     "base_uri": "https://localhost:8080/"
    },
    "executionInfo": {
     "elapsed": 128,
     "status": "ok",
     "timestamp": 1668114969520,
     "user": {
      "displayName": "Lakshmikar Reddy Polamreddy",
      "userId": "01522637219110771790"
     },
     "user_tz": 300
    },
    "id": "W-xzojc6Nxeg",
    "outputId": "a05892e8-fb8b-4e0e-8625-14a0836c7cf8"
   },
   "outputs": [
    {
     "name": "stdout",
     "output_type": "stream",
     "text": [
      "cuda\n"
     ]
    }
   ],
   "source": [
    "# Device configuration\n",
    "device = torch.device('cuda' if torch.cuda.is_available() else 'cpu')\n",
    "print(device)"
   ]
  },
  {
   "cell_type": "code",
   "execution_count": 6,
   "id": "vHwTUtewTRXG",
   "metadata": {
    "colab": {
     "base_uri": "https://localhost:8080/"
    },
    "executionInfo": {
     "elapsed": 352,
     "status": "ok",
     "timestamp": 1668114975929,
     "user": {
      "displayName": "Lakshmikar Reddy Polamreddy",
      "userId": "01522637219110771790"
     },
     "user_tz": 300
    },
    "id": "vHwTUtewTRXG",
    "outputId": "dd6e61c4-f4d7-49b6-f201-33a06e423b9f"
   },
   "outputs": [
    {
     "name": "stdout",
     "output_type": "stream",
     "text": [
      "Thu Nov 10 21:16:15 2022       \n",
      "+-----------------------------------------------------------------------------+\n",
      "| NVIDIA-SMI 460.32.03    Driver Version: 460.32.03    CUDA Version: 11.2     |\n",
      "|-------------------------------+----------------------+----------------------+\n",
      "| GPU  Name        Persistence-M| Bus-Id        Disp.A | Volatile Uncorr. ECC |\n",
      "| Fan  Temp  Perf  Pwr:Usage/Cap|         Memory-Usage | GPU-Util  Compute M. |\n",
      "|                               |                      |               MIG M. |\n",
      "|===============================+======================+======================|\n",
      "|   0  Tesla T4            Off  | 00000000:00:04.0 Off |                    0 |\n",
      "| N/A   41C    P8    11W /  70W |      3MiB / 15109MiB |      0%      Default |\n",
      "|                               |                      |                  N/A |\n",
      "+-------------------------------+----------------------+----------------------+\n",
      "                                                                               \n",
      "+-----------------------------------------------------------------------------+\n",
      "| Processes:                                                                  |\n",
      "|  GPU   GI   CI        PID   Type   Process name                  GPU Memory |\n",
      "|        ID   ID                                                   Usage      |\n",
      "|=============================================================================|\n",
      "|  No running processes found                                                 |\n",
      "+-----------------------------------------------------------------------------+\n"
     ]
    }
   ],
   "source": [
    "!nvidia-smi"
   ]
  },
  {
   "cell_type": "code",
   "execution_count": 7,
   "id": "AnZB2de-jjEx",
   "metadata": {
    "executionInfo": {
     "elapsed": 1,
     "status": "ok",
     "timestamp": 1668114976256,
     "user": {
      "displayName": "Lakshmikar Reddy Polamreddy",
      "userId": "01522637219110771790"
     },
     "user_tz": 300
    },
    "id": "AnZB2de-jjEx"
   },
   "outputs": [],
   "source": [
    "train_data_path = './Train'"
   ]
  },
  {
   "cell_type": "code",
   "execution_count": 8,
   "id": "N9Gq55GejjHl",
   "metadata": {
    "executionInfo": {
     "elapsed": 92,
     "status": "ok",
     "timestamp": 1668114978727,
     "user": {
      "displayName": "Lakshmikar Reddy Polamreddy",
      "userId": "01522637219110771790"
     },
     "user_tz": 300
    },
    "id": "N9Gq55GejjHl"
   },
   "outputs": [],
   "source": [
    "test_data_path = './Test/Test1'"
   ]
  },
  {
   "cell_type": "code",
   "execution_count": 9,
   "id": "e0JtMcLIjjK_",
   "metadata": {
    "executionInfo": {
     "elapsed": 97,
     "status": "ok",
     "timestamp": 1668114980885,
     "user": {
      "displayName": "Lakshmikar Reddy Polamreddy",
      "userId": "01522637219110771790"
     },
     "user_tz": 300
    },
    "id": "e0JtMcLIjjK_"
   },
   "outputs": [],
   "source": [
    "training_transform = transforms.Compose(\n",
    "    [transforms.Resize((224,224)),\n",
    "     transforms.RandomHorizontalFlip(),\n",
    "     transforms.RandomRotation(10),\n",
    "     transforms.ToTensor(),\n",
    "     transforms.Normalize((0.5, 0.5, 0.5), (0.5, 0.5, 0.5))])"
   ]
  },
  {
   "cell_type": "code",
   "execution_count": 10,
   "id": "yU_naXRwn23K",
   "metadata": {
    "executionInfo": {
     "elapsed": 2569,
     "status": "ok",
     "timestamp": 1668114995552,
     "user": {
      "displayName": "Lakshmikar Reddy Polamreddy",
      "userId": "01522637219110771790"
     },
     "user_tz": 300
    },
    "id": "yU_naXRwn23K"
   },
   "outputs": [],
   "source": [
    "training_data = torchvision.datasets.ImageFolder(root = train_data_path, transform = training_transform)"
   ]
  },
  {
   "cell_type": "code",
   "execution_count": 11,
   "id": "wrNlfA6YiSAl",
   "metadata": {
    "executionInfo": {
     "elapsed": 9,
     "status": "ok",
     "timestamp": 1668114995553,
     "user": {
      "displayName": "Lakshmikar Reddy Polamreddy",
      "userId": "01522637219110771790"
     },
     "user_tz": 300
    },
    "id": "wrNlfA6YiSAl"
   },
   "outputs": [],
   "source": [
    "train_data,val_data = random_split(training_data,[len(training_data)-149,149])"
   ]
  },
  {
   "cell_type": "code",
   "execution_count": 12,
   "id": "Rao02CcBn8Ht",
   "metadata": {
    "executionInfo": {
     "elapsed": 101,
     "status": "ok",
     "timestamp": 1668114996070,
     "user": {
      "displayName": "Lakshmikar Reddy Polamreddy",
      "userId": "01522637219110771790"
     },
     "user_tz": 300
    },
    "id": "Rao02CcBn8Ht"
   },
   "outputs": [],
   "source": [
    "train_loader = torch.utils.data.DataLoader(dataset = train_data, batch_size=32, shuffle = True)"
   ]
  },
  {
   "cell_type": "code",
   "execution_count": 13,
   "id": "FXAoGbPjjmVo",
   "metadata": {
    "executionInfo": {
     "elapsed": 3,
     "status": "ok",
     "timestamp": 1668115001559,
     "user": {
      "displayName": "Lakshmikar Reddy Polamreddy",
      "userId": "01522637219110771790"
     },
     "user_tz": 300
    },
    "id": "FXAoGbPjjmVo"
   },
   "outputs": [],
   "source": [
    "val_loader = torch.utils.data.DataLoader(dataset = val_data, batch_size=32, shuffle = False)"
   ]
  },
  {
   "cell_type": "code",
   "execution_count": 14,
   "id": "J6WljWEin8Q9",
   "metadata": {
    "colab": {
     "base_uri": "https://localhost:8080/",
     "height": 219
    },
    "executionInfo": {
     "elapsed": 7636,
     "status": "ok",
     "timestamp": 1668115012687,
     "user": {
      "displayName": "Lakshmikar Reddy Polamreddy",
      "userId": "01522637219110771790"
     },
     "user_tz": 300
    },
    "id": "J6WljWEin8Q9",
    "outputId": "313429ed-4fc3-474f-d0c4-552c776cb845"
   },
   "outputs": [
    {
     "data": {
      "image/png": "[encoded data removed]",
      "text/plain": [
       "<Figure size 432x288 with 1 Axes>"
      ]
     },
     "metadata": {
      "needs_background": "light"
     },
     "output_type": "display_data"
    }
   ],
   "source": [
    "def imshow(img):\n",
    "    img = img / 2 + 0.5  # unnormalize\n",
    "    npimg = img.numpy()\n",
    "    plt.imshow(np.transpose(npimg, (1, 2, 0)))\n",
    "    plt.show()\n",
    "\n",
    "\n",
    "# get some random training images\n",
    "dataiter = iter(train_loader)\n",
    "images, labels = dataiter.next()\n",
    "\n",
    "# show images\n",
    "imshow(torchvision.utils.make_grid(images))"
   ]
  },
  {
   "cell_type": "code",
   "execution_count": 15,
   "id": "pYpLqn61tuof",
   "metadata": {
    "executionInfo": {
     "elapsed": 103,
     "status": "ok",
     "timestamp": 1668115021670,
     "user": {
      "displayName": "Lakshmikar Reddy Polamreddy",
      "userId": "01522637219110771790"
     },
     "user_tz": 300
    },
    "id": "pYpLqn61tuof"
   },
   "outputs": [],
   "source": [
    "class ConvNet(nn.Module):\n",
    "    def __init__(self):\n",
    "        super(ConvNet, self).__init__()\n",
    "        # n = 224\n",
    "        self.conv1 = nn.Conv2d(3, 64, 3)  # 222\n",
    "        self.conv2 = nn.Conv2d(64, 64, 3) # 220\n",
    "        self.pool1 = nn.MaxPool2d(2, 2)   # 110\n",
    "\n",
    "        self.conv3 = nn.Conv2d(64, 128, 3) # 108\n",
    "        self.conv4 = nn.Conv2d(128, 128, 3)  # 106\n",
    "        self.pool2 = nn.MaxPool2d(2, 2) # 53\n",
    "\n",
    "        self.conv5 = nn.Conv2d(128, 256, 3) # 51\n",
    "        self.conv6 = nn.Conv2d(256, 256, 3) # 49\n",
    "        self.conv7 = nn.Conv2d(256, 256, 3) # 47\n",
    "        self.pool3 = nn.MaxPool2d(2, 2) # 23\n",
    "\n",
    "        self.conv8 = nn.Conv2d(256, 512, 3) # 21\n",
    "        self.conv9 = nn.Conv2d(512, 512, 3) # 19\n",
    "        self.conv10 = nn.Conv2d(512, 32, 3) # 17\n",
    "        self.pool4 = nn.MaxPool2d(2, 2) # 8\n",
    "\n",
    "        \n",
    "        self.fc1 = nn.Linear(8*8*32, 256)\n",
    "        self.dropout1 = nn.Dropout2d(0.25)\n",
    "        self.fc2 = nn.Linear(256, 128)\n",
    "        self.dropout2 = nn.Dropout2d(0.5)\n",
    "        self.fc3 = nn.Linear(128, 4)\n",
    "        \n",
    "\n",
    "    def forward(self, x):\n",
    "  \n",
    "        x = F.relu(self.conv1(x))\n",
    "        x = self.pool1(F.relu(self.conv2(x)))\n",
    "\n",
    "        x = F.relu(self.conv3(x))\n",
    "        x = self.pool2(F.relu(self.conv4(x)))\n",
    "\n",
    "        x = F.relu(self.conv5(x))\n",
    "        x = F.relu(self.conv6(x))\n",
    "        x = self.pool3(F.relu(self.conv7(x)))\n",
    "\n",
    "        x = F.relu(self.conv8(x))\n",
    "        x = F.relu(self.conv9(x))\n",
    "        x = self.pool4(F.relu(self.conv10(x)))\n",
    "       \n",
    "\n",
    "        x = x.view(-1, 8*8*32)\n",
    "        x = F.relu(self.fc1(x))\n",
    "        x = self.dropout1(x)\n",
    "        x = F.relu(self.fc2(x))\n",
    "        x = self.dropout2(x)\n",
    "        x = F.log_softmax(self.fc3(x), dim=1)\n",
    "        return x"
   ]
  },
  {
   "cell_type": "markdown",
   "id": "RSql7KgORi12",
   "metadata": {
    "id": "RSql7KgORi12"
   },
   "source": [
    "# 2. Train your model using cow teat datasets (you may need to use Google Colab (or Kaggle) with GPU to train your code)"
   ]
  },
  {
   "cell_type": "code",
   "execution_count": 56,
   "id": "6isI1oOe_ZRD",
   "metadata": {
    "executionInfo": {
     "elapsed": 80,
     "status": "ok",
     "timestamp": 1668119585454,
     "user": {
      "displayName": "Lakshmikar Reddy Polamreddy",
      "userId": "01522637219110771790"
     },
     "user_tz": 300
    },
    "id": "6isI1oOe_ZRD"
   },
   "outputs": [],
   "source": [
    "#model = ConvNet().to(device)\n",
    "model = torch.load('cnn12_250.pt')"
   ]
  },
  {
   "cell_type": "code",
   "execution_count": 57,
   "id": "KAn7cSKutvPQ",
   "metadata": {
    "executionInfo": {
     "elapsed": 103,
     "status": "ok",
     "timestamp": 1668119586475,
     "user": {
      "displayName": "Lakshmikar Reddy Polamreddy",
      "userId": "01522637219110771790"
     },
     "user_tz": 300
    },
    "id": "KAn7cSKutvPQ"
   },
   "outputs": [],
   "source": [
    "# Define the loss\n",
    "criterion = nn.CrossEntropyLoss()\n",
    "\n",
    "# Optimizers require the parameters to optimize and a learning rate\n",
    "optimizer = optim.SGD(model.parameters(), lr=0.01, momentum=0.9)"
   ]
  },
  {
   "cell_type": "code",
   "execution_count": 58,
   "id": "aOjq2GorouT1",
   "metadata": {
    "colab": {
     "base_uri": "https://localhost:8080/"
    },
    "executionInfo": {
     "elapsed": 1062517,
     "status": "ok",
     "timestamp": 1668120649687,
     "user": {
      "displayName": "Lakshmikar Reddy Polamreddy",
      "userId": "01522637219110771790"
     },
     "user_tz": 300
    },
    "id": "aOjq2GorouT1",
    "outputId": "fedd60d1-f025-4271-e20a-8167b168b818"
   },
   "outputs": [
    {
     "name": "stderr",
     "output_type": "stream",
     "text": [
      "/usr/local/lib/python3.7/dist-packages/torch/nn/functional.py:1331: UserWarning: dropout2d: Received a 2-D input to dropout2d, which is deprecated and will result in an error in a future release. To retain the behavior and silence this warning, please use dropout instead. Note that dropout2d exists to provide channel-wise dropout on inputs with 2 spatial dimensions, a channel dimension, and an optional batch dimension (i.e. 3D or 4D inputs).\n",
      "  warnings.warn(warn_msg)\n"
     ]
    },
    {
     "name": "stdout",
     "output_type": "stream",
     "text": [
      "Training loss: 0.7184805069118738\n",
      "Training loss: 0.713314650580287\n",
      "Training loss: 0.740280270576477\n",
      "Training loss: 0.7093990370631218\n",
      "Training loss: 0.7447294620797038\n",
      "Training loss: 0.723111349157989\n",
      "Training loss: 0.7360952673479915\n",
      "Training loss: 0.7613864075392485\n",
      "Training loss: 0.7259174799546599\n",
      "Training loss: 0.6721049696207047\n",
      "Training loss: 0.6475127385929227\n",
      "Training loss: 0.6612125439569354\n",
      "Training loss: 0.64633225556463\n",
      "Training loss: 0.6919907238334417\n",
      "Training loss: 0.691467147320509\n",
      "Training loss: 0.6706983391195536\n",
      "Training loss: 0.6230040248483419\n",
      "Training loss: 0.6040456751361489\n",
      "Training loss: 0.6069013634696603\n",
      "Training loss: 0.6199893020093441\n",
      "Training loss: 0.5903077609837055\n",
      "Training loss: 0.6009869473055005\n",
      "Training loss: 0.614419917576015\n",
      "Training loss: 0.607447219081223\n",
      "Training loss: 0.6033153114840388\n",
      "Training loss: 0.6079563172534108\n",
      "Training loss: 0.5709809930995107\n",
      "Training loss: 0.5473409332334995\n",
      "Training loss: 0.6112590013071895\n",
      "Training loss: 0.5231609982438385\n",
      "Training loss: 0.5560612231492996\n",
      "Training loss: 0.5229691043496132\n",
      "Training loss: 0.5443163709715009\n",
      "Training loss: 0.5351979285478592\n",
      "Training loss: 0.5037288954481483\n",
      "Training loss: 0.4694711398333311\n",
      "Training loss: 0.5677035013213754\n",
      "Training loss: 0.47206719050882384\n",
      "Training loss: 0.5844060881063342\n",
      "Training loss: 0.4755156710743904\n",
      "Training loss: 0.41933932853862643\n",
      "Training loss: 0.4514251332730055\n",
      "Training loss: 0.4384287032298744\n",
      "Training loss: 0.4865011419169605\n",
      "Training loss: 0.43964892299845815\n",
      "Training loss: 0.4042201517149806\n",
      "Training loss: 0.47198748076334596\n",
      "Training loss: 0.4585527013987303\n",
      "Training loss: 0.4302310640923679\n",
      "Training loss: 0.41153460601344705\n"
     ]
    }
   ],
   "source": [
    "epochs = 50\n",
    "train_losses = []\n",
    "for e in range(epochs):\n",
    "    running_loss = 0\n",
    "    for images, labels in train_loader:\n",
    "               \n",
    "        # Training pass\n",
    "        optimizer.zero_grad()\n",
    "        \n",
    "        outputs = model(images.to(device))\n",
    "        loss = criterion(outputs, labels.to(device))\n",
    "                \n",
    "        loss.backward()\n",
    "        optimizer.step()\n",
    "        \n",
    "        #print(loss)\n",
    "        \n",
    "        running_loss += loss.item()        \n",
    "    else:\n",
    "        print(f\"Training loss: {running_loss/len(train_loader)}\")\n",
    "        train_losses.append(running_loss/len(train_loader))\n",
    "\n",
    "torch.save(model, 'cnn12_300.pt')"
   ]
  },
  {
   "cell_type": "code",
   "execution_count": 59,
   "id": "W5KHNi-fpZKz",
   "metadata": {
    "colab": {
     "base_uri": "https://localhost:8080/",
     "height": 265
    },
    "executionInfo": {
     "elapsed": 215,
     "status": "ok",
     "timestamp": 1668120649890,
     "user": {
      "displayName": "Lakshmikar Reddy Polamreddy",
      "userId": "01522637219110771790"
     },
     "user_tz": 300
    },
    "id": "W5KHNi-fpZKz",
    "outputId": "32519308-24a1-48a1-efab-61eb633b8902"
   },
   "outputs": [
    {
     "data": {
      "image/png": "[encoded data removed]",
      "text/plain": [
       "<Figure size 432x288 with 1 Axes>"
      ]
     },
     "metadata": {
      "needs_background": "light"
     },
     "output_type": "display_data"
    }
   ],
   "source": [
    "e = [i for i in range(0,50)]\n",
    "plt.plot(e, train_losses)\n",
    "plt.show()"
   ]
  },
  {
   "cell_type": "code",
   "execution_count": 60,
   "id": "LMZocKEYYERv",
   "metadata": {
    "colab": {
     "base_uri": "https://localhost:8080/"
    },
    "executionInfo": {
     "elapsed": 12447,
     "status": "ok",
     "timestamp": 1668120662332,
     "user": {
      "displayName": "Lakshmikar Reddy Polamreddy",
      "userId": "01522637219110771790"
     },
     "user_tz": 300
    },
    "id": "LMZocKEYYERv",
    "outputId": "c185b795-f8d9-4422-d82b-25db842786d4"
   },
   "outputs": [
    {
     "name": "stdout",
     "output_type": "stream",
     "text": [
      "Train Accuracy in percentage:  84.1\n"
     ]
    }
   ],
   "source": [
    "correct = 0\n",
    "total = 0\n",
    "\n",
    "with torch.no_grad():\n",
    "    for data in train_loader:\n",
    "        X,y = data\n",
    "        outputs = model(X.to(device))\n",
    "        for idx, i in enumerate(outputs):\n",
    "            if torch.argmax(i) == y[idx]:\n",
    "                correct += 1\n",
    "            total += 1\n",
    "print(\"Train Accuracy in percentage: \", round(100*correct/total, 3))"
   ]
  },
  {
   "cell_type": "code",
   "execution_count": 61,
   "id": "g4XmAB1yjz94",
   "metadata": {
    "colab": {
     "base_uri": "https://localhost:8080/"
    },
    "executionInfo": {
     "elapsed": 1944,
     "status": "ok",
     "timestamp": 1668120664267,
     "user": {
      "displayName": "Lakshmikar Reddy Polamreddy",
      "userId": "01522637219110771790"
     },
     "user_tz": 300
    },
    "id": "g4XmAB1yjz94",
    "outputId": "0128dd10-41cb-418d-b8c9-a84d8eca326b"
   },
   "outputs": [
    {
     "name": "stdout",
     "output_type": "stream",
     "text": [
      "Validation Accuracy in percentage:  59.06\n"
     ]
    }
   ],
   "source": [
    "correct = 0\n",
    "total = 0\n",
    "\n",
    "with torch.no_grad():\n",
    "    for data in val_loader:\n",
    "        X,y = data\n",
    "        outputs = model(X.to(device))\n",
    "        for idx, i in enumerate(outputs):\n",
    "            if torch.argmax(i) == y[idx]:\n",
    "                correct += 1\n",
    "            total += 1\n",
    "print(\"Validation Accuracy in percentage: \", round(100*correct/total, 3))"
   ]
  },
  {
   "cell_type": "markdown",
   "id": "SJdEQo-BRwnR",
   "metadata": {
    "id": "SJdEQo-BRwnR"
   },
   "source": [
    "# 3. Evaluate your model using the developed software"
   ]
  },
  {
   "cell_type": "code",
   "execution_count": 48,
   "id": "tzpEeIONeQMf",
   "metadata": {
    "executionInfo": {
     "elapsed": 1,
     "status": "ok",
     "timestamp": 1668119466848,
     "user": {
      "displayName": "Lakshmikar Reddy Polamreddy",
      "userId": "01522637219110771790"
     },
     "user_tz": 300
    },
    "id": "tzpEeIONeQMf"
   },
   "outputs": [],
   "source": [
    "def import_test_dataset(root_path, resized_size = (224,224)):\n",
    "  img_data_files = []\n",
    "  img_data_names = os.listdir(root_path)\n",
    "  for img in img_data_names:\n",
    "    path_=os.path.join(root_path, img)\n",
    "    img = cv2.imread(path_)\n",
    "    resized = cv2.resize(img, resized_size)\n",
    "    img_data_files.append(resized)\n",
    "\n",
    "  return( (np.array(img_data_files),np.array(img_data_names)) )"
   ]
  },
  {
   "cell_type": "code",
   "execution_count": 49,
   "id": "9UA95P-weQas",
   "metadata": {
    "colab": {
     "base_uri": "https://localhost:8080/"
    },
    "executionInfo": {
     "elapsed": 2087,
     "status": "ok",
     "timestamp": 1668119468935,
     "user": {
      "displayName": "Lakshmikar Reddy Polamreddy",
      "userId": "01522637219110771790"
     },
     "user_tz": 300
    },
    "id": "9UA95P-weQas",
    "outputId": "8b2e6d26-da6c-4928-d276-b16b99b63bd6"
   },
   "outputs": [
    {
     "name": "stdout",
     "output_type": "stream",
     "text": [
      "(380, 224, 224, 3)\n",
      "(380,)\n"
     ]
    }
   ],
   "source": [
    "size_of_resized_img = (224,224)\n",
    "test_data, test_names = import_test_dataset(test_data_path, resized_size= size_of_resized_img)\n",
    "print(test_data.shape)\n",
    "print(test_names.shape)"
   ]
  },
  {
   "cell_type": "code",
   "execution_count": 50,
   "id": "4ni3ondUeQou",
   "metadata": {
    "colab": {
     "base_uri": "https://localhost:8080/"
    },
    "executionInfo": {
     "elapsed": 2,
     "status": "ok",
     "timestamp": 1668119468935,
     "user": {
      "displayName": "Lakshmikar Reddy Polamreddy",
      "userId": "01522637219110771790"
     },
     "user_tz": 300
    },
    "id": "4ni3ondUeQou",
    "outputId": "fbb86612-e349-4e63-d14a-831c0608792d"
   },
   "outputs": [
    {
     "data": {
      "text/plain": [
       "numpy.ndarray"
      ]
     },
     "execution_count": 50,
     "metadata": {},
     "output_type": "execute_result"
    }
   ],
   "source": [
    "type(test_data)"
   ]
  },
  {
   "cell_type": "code",
   "execution_count": 51,
   "id": "CLXpU-DXYkWy",
   "metadata": {
    "colab": {
     "base_uri": "https://localhost:8080/"
    },
    "executionInfo": {
     "elapsed": 2167,
     "status": "ok",
     "timestamp": 1668119471101,
     "user": {
      "displayName": "Lakshmikar Reddy Polamreddy",
      "userId": "01522637219110771790"
     },
     "user_tz": 300
    },
    "id": "CLXpU-DXYkWy",
    "outputId": "c3ae7776-9c5c-4a60-8baa-120043b9fccb"
   },
   "outputs": [
    {
     "data": {
      "text/plain": [
       "380"
      ]
     },
     "execution_count": 51,
     "metadata": {},
     "output_type": "execute_result"
    }
   ],
   "source": [
    "predictions_list = []\n",
    "with torch.no_grad():\n",
    "  for x in test_data:\n",
    "    x_tensor = torch.tensor(x.reshape(3,224,224), dtype=torch.float)\n",
    "    x_tensor = x_tensor[None, :]\n",
    "    outputs = model(x_tensor.to(device))\n",
    "    predictions = torch.argmax(outputs, dim=1)\n",
    "    predictions_list.append(predictions)\n",
    "len(predictions_list)"
   ]
  },
  {
   "cell_type": "code",
   "execution_count": 52,
   "id": "-1Y8kJ8TQrAF",
   "metadata": {
    "colab": {
     "base_uri": "https://localhost:8080/"
    },
    "executionInfo": {
     "elapsed": 3,
     "status": "ok",
     "timestamp": 1668119471101,
     "user": {
      "displayName": "Lakshmikar Reddy Polamreddy",
      "userId": "01522637219110771790"
     },
     "user_tz": 300
    },
    "id": "-1Y8kJ8TQrAF",
    "outputId": "7ba531fc-77a4-41e4-f7fd-77588adbe1ab"
   },
   "outputs": [
    {
     "data": {
      "text/plain": [
       "tensor([1], device='cuda:0')"
      ]
     },
     "execution_count": 52,
     "metadata": {},
     "output_type": "execute_result"
    }
   ],
   "source": [
    "predictions_list[0]"
   ]
  },
  {
   "cell_type": "code",
   "execution_count": 53,
   "id": "YfrXsCHzPric",
   "metadata": {
    "executionInfo": {
     "elapsed": 2,
     "status": "ok",
     "timestamp": 1668119471102,
     "user": {
      "displayName": "Lakshmikar Reddy Polamreddy",
      "userId": "01522637219110771790"
     },
     "user_tz": 300
    },
    "id": "YfrXsCHzPric"
   },
   "outputs": [],
   "source": [
    "preds = []\n",
    "for i in predictions_list:\n",
    "  preds.append(str(predictions_list[i]).split(\"[\")[1][0])"
   ]
  },
  {
   "cell_type": "code",
   "execution_count": 54,
   "id": "26gstYvUJ20a",
   "metadata": {
    "colab": {
     "base_uri": "https://localhost:8080/",
     "height": 363
    },
    "executionInfo": {
     "elapsed": 1,
     "status": "ok",
     "timestamp": 1668119471205,
     "user": {
      "displayName": "Lakshmikar Reddy Polamreddy",
      "userId": "01522637219110771790"
     },
     "user_tz": 300
    },
    "id": "26gstYvUJ20a",
    "outputId": "023562fd-1b5f-4e0a-8793-16687ef07241"
   },
   "outputs": [
    {
     "data": {
      "text/html": [
       "\n",
       "  <div id=\"df-f19d9800-4a30-42eb-bfff-3a1639e1ecb8\">\n",
       "    <div class=\"colab-df-container\">\n",
       "      <div>\n",
       "<style scoped>\n",
       "    .dataframe tbody tr th:only-of-type {\n",
       "        vertical-align: middle;\n",
       "    }\n",
       "\n",
       "    .dataframe tbody tr th {\n",
       "        vertical-align: top;\n",
       "    }\n",
       "\n",
       "    .dataframe thead th {\n",
       "        text-align: right;\n",
       "    }\n",
       "</style>\n",
       "<table border=\"1\" class=\"dataframe\">\n",
       "  <thead>\n",
       "    <tr style=\"text-align: right;\">\n",
       "      <th></th>\n",
       "      <th>0</th>\n",
       "      <th>1</th>\n",
       "    </tr>\n",
       "  </thead>\n",
       "  <tbody>\n",
       "    <tr>\n",
       "      <th>0</th>\n",
       "      <td>20200724_094326_LF_C1_PN_M.jpg</td>\n",
       "      <td>1</td>\n",
       "    </tr>\n",
       "    <tr>\n",
       "      <th>1</th>\n",
       "      <td>20200724_094529_RH_C1_PP_M.jpg</td>\n",
       "      <td>1</td>\n",
       "    </tr>\n",
       "    <tr>\n",
       "      <th>2</th>\n",
       "      <td>20200724_094716_RF_C2_PN_M.jpg</td>\n",
       "      <td>1</td>\n",
       "    </tr>\n",
       "    <tr>\n",
       "      <th>3</th>\n",
       "      <td>20200724_094705_RF_C1_PN_M.jpg</td>\n",
       "      <td>3</td>\n",
       "    </tr>\n",
       "    <tr>\n",
       "      <th>4</th>\n",
       "      <td>20200724_094644_LF_C2_PN_M.jpg</td>\n",
       "      <td>1</td>\n",
       "    </tr>\n",
       "    <tr>\n",
       "      <th>5</th>\n",
       "      <td>20200724_094519_LH_C1_PN_M.jpg</td>\n",
       "      <td>3</td>\n",
       "    </tr>\n",
       "    <tr>\n",
       "      <th>6</th>\n",
       "      <td>20200724_094747_RF_C2_PP_M.jpg</td>\n",
       "      <td>1</td>\n",
       "    </tr>\n",
       "    <tr>\n",
       "      <th>7</th>\n",
       "      <td>20200724_094414_LF_C2_PP_M.jpg</td>\n",
       "      <td>1</td>\n",
       "    </tr>\n",
       "    <tr>\n",
       "      <th>8</th>\n",
       "      <td>20200724_094619_LH_C1_PN_M.jpg</td>\n",
       "      <td>1</td>\n",
       "    </tr>\n",
       "    <tr>\n",
       "      <th>9</th>\n",
       "      <td>20200724_094716_LH_C2_PN_M.jpg</td>\n",
       "      <td>1</td>\n",
       "    </tr>\n",
       "  </tbody>\n",
       "</table>\n",
       "</div>\n",
       "      <button class=\"colab-df-convert\" onclick=\"convertToInteractive('df-f19d9800-4a30-42eb-bfff-3a1639e1ecb8')\"\n",
       "              title=\"Convert this dataframe to an interactive table.\"\n",
       "              style=\"display:none;\">\n",
       "        \n",
       "  <svg xmlns=\"http://www.w3.org/2000/svg\" height=\"24px\"viewBox=\"0 0 24 24\"\n",
       "       width=\"24px\">\n",
       "    <path d=\"M0 0h24v24H0V0z\" fill=\"none\"/>\n",
       "    <path d=\"M18.56 5.44l.94 2.06.94-2.06 2.06-.94-2.06-.94-.94-2.06-.94 2.06-2.06.94zm-11 1L8.5 8.5l.94-2.06 2.06-.94-2.06-.94L8.5 2.5l-.94 2.06-2.06.94zm10 10l.94 2.06.94-2.06 2.06-.94-2.06-.94-.94-2.06-.94 2.06-2.06.94z\"/><path d=\"M17.41 7.96l-1.37-1.37c-.4-.4-.92-.59-1.43-.59-.52 0-1.04.2-1.43.59L10.3 9.45l-7.72 7.72c-.78.78-.78 2.05 0 2.83L4 21.41c.39.39.9.59 1.41.59.51 0 1.02-.2 1.41-.59l7.78-7.78 2.81-2.81c.8-.78.8-2.07 0-2.86zM5.41 20L4 18.59l7.72-7.72 1.47 1.35L5.41 20z\"/>\n",
       "  </svg>\n",
       "      </button>\n",
       "      \n",
       "  <style>\n",
       "    .colab-df-container {\n",
       "      display:flex;\n",
       "      flex-wrap:wrap;\n",
       "      gap: 12px;\n",
       "    }\n",
       "\n",
       "    .colab-df-convert {\n",
       "      background-color: #E8F0FE;\n",
       "      border: none;\n",
       "      border-radius: 50%;\n",
       "      cursor: pointer;\n",
       "      display: none;\n",
       "      fill: #1967D2;\n",
       "      height: 32px;\n",
       "      padding: 0 0 0 0;\n",
       "      width: 32px;\n",
       "    }\n",
       "\n",
       "    .colab-df-convert:hover {\n",
       "      background-color: #E2EBFA;\n",
       "      box-shadow: 0px 1px 2px rgba(60, 64, 67, 0.3), 0px 1px 3px 1px rgba(60, 64, 67, 0.15);\n",
       "      fill: #174EA6;\n",
       "    }\n",
       "\n",
       "    [theme=dark] .colab-df-convert {\n",
       "      background-color: #3B4455;\n",
       "      fill: #D2E3FC;\n",
       "    }\n",
       "\n",
       "    [theme=dark] .colab-df-convert:hover {\n",
       "      background-color: #434B5C;\n",
       "      box-shadow: 0px 1px 3px 1px rgba(0, 0, 0, 0.15);\n",
       "      filter: drop-shadow(0px 1px 2px rgba(0, 0, 0, 0.3));\n",
       "      fill: #FFFFFF;\n",
       "    }\n",
       "  </style>\n",
       "\n",
       "      <script>\n",
       "        const buttonEl =\n",
       "          document.querySelector('#df-f19d9800-4a30-42eb-bfff-3a1639e1ecb8 button.colab-df-convert');\n",
       "        buttonEl.style.display =\n",
       "          google.colab.kernel.accessAllowed ? 'block' : 'none';\n",
       "\n",
       "        async function convertToInteractive(key) {\n",
       "          const element = document.querySelector('#df-f19d9800-4a30-42eb-bfff-3a1639e1ecb8');\n",
       "          const dataTable =\n",
       "            await google.colab.kernel.invokeFunction('convertToInteractive',\n",
       "                                                     [key], {});\n",
       "          if (!dataTable) return;\n",
       "\n",
       "          const docLinkHtml = 'Like what you see? Visit the ' +\n",
       "            '<a target=\"_blank\" href=https://colab.research.google.com/notebooks/data_table.ipynb>data table notebook</a>'\n",
       "            + ' to learn more about interactive tables.';\n",
       "          element.innerHTML = '';\n",
       "          dataTable['output_type'] = 'display_data';\n",
       "          await google.colab.output.renderOutput(dataTable, element);\n",
       "          const docLink = document.createElement('div');\n",
       "          docLink.innerHTML = docLinkHtml;\n",
       "          element.appendChild(docLink);\n",
       "        }\n",
       "      </script>\n",
       "    </div>\n",
       "  </div>\n",
       "  "
      ],
      "text/plain": [
       "                                0  1\n",
       "0  20200724_094326_LF_C1_PN_M.jpg  1\n",
       "1  20200724_094529_RH_C1_PP_M.jpg  1\n",
       "2  20200724_094716_RF_C2_PN_M.jpg  1\n",
       "3  20200724_094705_RF_C1_PN_M.jpg  3\n",
       "4  20200724_094644_LF_C2_PN_M.jpg  1\n",
       "5  20200724_094519_LH_C1_PN_M.jpg  3\n",
       "6  20200724_094747_RF_C2_PP_M.jpg  1\n",
       "7  20200724_094414_LF_C2_PP_M.jpg  1\n",
       "8  20200724_094619_LH_C1_PN_M.jpg  1\n",
       "9  20200724_094716_LH_C2_PN_M.jpg  1"
      ]
     },
     "execution_count": 54,
     "metadata": {},
     "output_type": "execute_result"
    }
   ],
   "source": [
    "df = pd.DataFrame(list(zip(test_names,preds)))\n",
    "df.head(10)"
   ]
  },
  {
   "cell_type": "code",
   "execution_count": 55,
   "id": "243U1aVzobjU",
   "metadata": {
    "executionInfo": {
     "elapsed": 273,
     "status": "ok",
     "timestamp": 1668119471477,
     "user": {
      "displayName": "Lakshmikar Reddy Polamreddy",
      "userId": "01522637219110771790"
     },
     "user_tz": 300
    },
    "id": "243U1aVzobjU"
   },
   "outputs": [],
   "source": [
    "df.to_csv(\"Test_results_cnn12.csv\", header=False,index=False)"
   ]
  },
  {
   "cell_type": "markdown",
   "id": "SyDU-vnHgW0L",
   "metadata": {
    "id": "SyDU-vnHgW0L"
   },
   "source": []
  },
  {
   "cell_type": "markdown",
   "id": "1b5846bc",
   "metadata": {
    "id": "1b5846bc"
   },
   "source": [
    "# 4. Compare results with [SCTL paper](https://www.mdpi.com/2076-2615/12/7/886/htm). Requirement: performance is better than VGG16: 66.8%"
   ]
  },
  {
   "attachments": {
    "Accuracies.png": {
     "image/png": "[encoded data removed]"
    }
   },
   "cell_type": "markdown",
   "id": "98626e85",
   "metadata": {
    "id": "3a626823"
   },
   "source": [
    "![Accuracies.png](attachment:Accuracies.png)"
   ]
  },
  {
   "cell_type": "markdown",
   "id": "62f12835",
   "metadata": {
    "id": "62f12835"
   },
   "source": [
    "# 5. Write a four-page paper report using the shared LaTex template. Upload your paper to ResearchGate or Arxiv, and put your paper link here."
   ]
  },
  {
   "cell_type": "markdown",
   "id": "db0cccf5",
   "metadata": {
    "id": "db0cccf5"
   },
   "source": [
    "https://www.researchgate.net/publication/365297839_Building_a_CNN_model_using_Pytorch_to_classify_cow_teats_images"
   ]
  },
  {
   "cell_type": "markdown",
   "id": "f476372c",
   "metadata": {
    "id": "f476372c"
   },
   "source": [
    "# 6. Grading rubric\n",
    "\n",
    "(1). Code ------- 20 points (you also need to upload your final model as a pt file)\n",
    "\n",
    "(2). Grammer ---- 20 points\n",
    "\n",
    "(3). Introduction & related work --- 10 points\n",
    "\n",
    "(4). Method  ---- 20 points\n",
    "\n",
    "(5). Results ---- 20 points\n",
    "\n",
    "(6). Discussion - 10 points"
   ]
  },
  {
   "cell_type": "code",
   "execution_count": null,
   "id": "445593c4",
   "metadata": {
    "id": "445593c4"
   },
   "outputs": [],
   "source": []
  }
 ],
 "metadata": {
  "accelerator": "GPU",
  "colab": {
   "collapsed_sections": [],
   "provenance": []
  },
  "gpuClass": "standard",
  "kernelspec": {
   "display_name": "Python 3 (ipykernel)",
   "language": "python",
   "name": "python3"
  },
  "language_info": {
   "codemirror_mode": {
    "name": "ipython",
    "version": 3
   },
   "file_extension": ".py",
   "mimetype": "text/x-python",
   "name": "python",
   "nbconvert_exporter": "python",
   "pygments_lexer": "ipython3",
   "version": "3.9.12"
  }
 },
 "nbformat": 4,
 "nbformat_minor": 5
}
